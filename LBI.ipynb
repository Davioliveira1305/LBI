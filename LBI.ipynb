{
  "nbformat": 4,
  "nbformat_minor": 0,
  "metadata": {
    "colab": {
      "provenance": [],
      "authorship_tag": "ABX9TyMpVKTZPG21ft87zzDqgd3N",
      "include_colab_link": true
    },
    "kernelspec": {
      "name": "python3",
      "display_name": "Python 3"
    },
    "language_info": {
      "name": "python"
    }
  },
  "cells": [
    {
      "cell_type": "markdown",
      "metadata": {
        "id": "view-in-github",
        "colab_type": "text"
      },
      "source": [
        "<a href=\"https://colab.research.google.com/github/Davioliveira1305/LBI/blob/main/LBI.ipynb\" target=\"_parent\"><img src=\"https://colab.research.google.com/assets/colab-badge.svg\" alt=\"Open In Colab\"/></a>"
      ]
    },
    {
      "cell_type": "code",
      "execution_count": 2,
      "metadata": {
        "id": "74Z7_FwbKYoj"
      },
      "outputs": [],
      "source": [
        "import networkx as nx\n",
        "import matplotlib.pyplot as plt"
      ]
    },
    {
      "cell_type": "code",
      "source": [
        "var = int(input('Diga-me quantas variavéis de decisão possui seu problema da mochila 0-1: '))\n",
        "lista_pesos = []\n",
        "for i in range(var):\n",
        "  peso = int(input(f'Informe o peso da variável x{i + 1} na função objetivo: '))\n",
        "  lista_pesos.append(peso)\n",
        "lista_pesos_restr = []\n",
        "for i in range(var):\n",
        "  peso_restr = int(input(f'Informe o peso da variável x{i + 1} na restrição: '))\n",
        "capacidade = int(input('Informe a capacidade da mochila: '))"
      ],
      "metadata": {
        "colab": {
          "base_uri": "https://localhost:8080/"
        },
        "id": "JGUuV9Fy9gIu",
        "outputId": "6cb0645d-a1bb-4048-8092-833e12911193"
      },
      "execution_count": 15,
      "outputs": [
        {
          "name": "stdout",
          "output_type": "stream",
          "text": [
            "Diga-me quantas variavéis de decisão possui seu problema da mochila 0-1: 4\n",
            "Informe o peso da variável x1 na função objetivo: 10\n",
            "Informe o peso da variável x2 na função objetivo: 6\n",
            "Informe o peso da variável x3 na função objetivo: 12\n",
            "Informe o peso da variável x4 na função objetivo: 7\n",
            "Informe o peso da variável x1 na restrição: 4\n",
            "Informe o peso da variável x2 na restrição: 2\n",
            "Informe o peso da variável x3 na restrição: 6\n",
            "Informe o peso da variável x4 na restrição: 3\n"
          ]
        }
      ]
    },
    {
      "cell_type": "code",
      "source": [
        "def funcao_tran()"
      ],
      "metadata": {
        "id": "Al9awp5gB36w"
      },
      "execution_count": null,
      "outputs": []
    },
    {
      "cell_type": "code",
      "source": [
        "grafo = nx.DiGraph()\n",
        "class node:\n",
        "  def __init__(self, estado):\n",
        "    self.estado = estado\n",
        "\n",
        "raiz = node(0)\n",
        "grafo.add_node(raiz.estado)\n",
        "Lista_camadas = [[raiz.estado]]\n",
        "dominio = [0, 1]\n",
        "for i in range(1, var + 1):\n",
        "  Lista_camadas.append([])\n",
        "  for j in range(len(Lista_camadas[i - 1])):\n",
        "    for k in range(len(dominio)):\n",
        "      pass\n",
        "\n",
        "\n",
        "\n",
        "\n",
        "'''pos = nx.pyplot_layout(grafo, prog=\"dot\", root=raiz.estado)  # Especifica o layout hierárquico e define a raiz\n",
        "nx.draw(grafo, pos, with_labels=True, font_weight='bold', arrowsize=20, connectionstyle='arc3,rad=0.1')\n",
        "plt.show()'''\n"
      ],
      "metadata": {
        "id": "ztSa9FIrUeay",
        "colab": {
          "base_uri": "https://localhost:8080/",
          "height": 72
        },
        "outputId": "ae5df9dc-cc3a-48fd-c61c-00194017278e"
      },
      "execution_count": 21,
      "outputs": [
        {
          "output_type": "stream",
          "name": "stdout",
          "text": [
            "chegou aqui\n"
          ]
        },
        {
          "output_type": "execute_result",
          "data": {
            "text/plain": [
              "'pos = nx.pyplot_layout(grafo, prog=\"dot\", root=raiz.estado)  # Especifica o layout hierárquico e define a raiz\\nnx.draw(grafo, pos, with_labels=True, font_weight=\\'bold\\', arrowsize=20, connectionstyle=\\'arc3,rad=0.1\\')\\nplt.show()'"
            ],
            "application/vnd.google.colaboratory.intrinsic+json": {
              "type": "string"
            }
          },
          "metadata": {},
          "execution_count": 21
        }
      ]
    }
  ]
}